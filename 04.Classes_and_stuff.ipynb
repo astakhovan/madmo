{
 "cells": [
  {
   "cell_type": "code",
   "execution_count": 2,
   "metadata": {
    "slideshow": {
     "slide_type": "-"
    }
   },
   "outputs": [
    {
     "data": {
      "text/plain": [
       "__main__.A"
      ]
     },
     "execution_count": 2,
     "metadata": {},
     "output_type": "execute_result"
    }
   ],
   "source": [
    "class A:\n",
    "    pass\n",
    "\n",
    "a = A()\n",
    "type(a)"
   ]
  },
  {
   "cell_type": "markdown",
   "metadata": {
    "slideshow": {
     "slide_type": "slide"
    }
   },
   "source": [
    "Классы это ...\n",
    "- Способ обьединить данные и методы работы с ними за единой абстракцией\n",
    "- Объекты которые порождают другие обьекты при вызове\n",
    "- Модель объекта\n",
    "- Способ самостоятельно создавать типы\n",
    "\n",
    "Объекты = Экземпляры классов.\n",
    "\n",
    "int – класс ; 1, 2, 3 – объекты этого класса"
   ]
  },
  {
   "cell_type": "markdown",
   "metadata": {
    "slideshow": {
     "slide_type": "slide"
    }
   },
   "source": [
    "## Атрибуты класса"
   ]
  },
  {
   "cell_type": "code",
   "execution_count": 5,
   "metadata": {
    "slideshow": {
     "slide_type": "-"
    }
   },
   "outputs": [
    {
     "data": {
      "text/plain": [
       "'chickadee'"
      ]
     },
     "execution_count": 5,
     "metadata": {},
     "output_type": "execute_result"
    }
   ],
   "source": [
    "class Bird(object):\n",
    "    kind = \"chickadee\"\n",
    "\n",
    "bird = Bird()\n",
    "bird.kind"
   ]
  },
  {
   "cell_type": "code",
   "execution_count": 6,
   "metadata": {},
   "outputs": [
    {
     "data": {
      "text/plain": [
       "'chickadee'"
      ]
     },
     "execution_count": 6,
     "metadata": {},
     "output_type": "execute_result"
    }
   ],
   "source": [
    "Bird.kind"
   ]
  },
  {
   "cell_type": "code",
   "execution_count": 7,
   "metadata": {},
   "outputs": [
    {
     "data": {
      "text/plain": [
       "10"
      ]
     },
     "execution_count": 7,
     "metadata": {},
     "output_type": "execute_result"
    }
   ],
   "source": [
    "bird.length = 10\n",
    "bird.length"
   ]
  },
  {
   "cell_type": "code",
   "execution_count": 8,
   "metadata": {},
   "outputs": [
    {
     "ename": "AttributeError",
     "evalue": "type object 'Bird' has no attribute 'length'",
     "output_type": "error",
     "traceback": [
      "\u001b[0;31m---------------------------------------------------------------------------\u001b[0m",
      "\u001b[0;31mAttributeError\u001b[0m                            Traceback (most recent call last)",
      "\u001b[0;32m<ipython-input-8-e200e66d3f79>\u001b[0m in \u001b[0;36m<module>\u001b[0;34m\u001b[0m\n\u001b[0;32m----> 1\u001b[0;31m \u001b[0mBird\u001b[0m\u001b[0;34m.\u001b[0m\u001b[0mlength\u001b[0m\u001b[0;34m\u001b[0m\u001b[0;34m\u001b[0m\u001b[0m\n\u001b[0m",
      "\u001b[0;31mAttributeError\u001b[0m: type object 'Bird' has no attribute 'length'"
     ]
    }
   ],
   "source": [
    "Bird.length"
   ]
  },
  {
   "cell_type": "code",
   "execution_count": 9,
   "metadata": {},
   "outputs": [],
   "source": [
    "Bird.length = 5"
   ]
  },
  {
   "cell_type": "code",
   "execution_count": 10,
   "metadata": {},
   "outputs": [
    {
     "data": {
      "text/plain": [
       "10"
      ]
     },
     "execution_count": 10,
     "metadata": {},
     "output_type": "execute_result"
    }
   ],
   "source": [
    "bird.length"
   ]
  },
  {
   "cell_type": "code",
   "execution_count": 11,
   "metadata": {},
   "outputs": [
    {
     "data": {
      "text/plain": [
       "5"
      ]
     },
     "execution_count": 11,
     "metadata": {},
     "output_type": "execute_result"
    }
   ],
   "source": [
    "b = Bird()\n",
    "b.length"
   ]
  },
  {
   "cell_type": "code",
   "execution_count": null,
   "metadata": {},
   "outputs": [],
   "source": [
    "# metaclass\n",
    "# метаклассы в python\n",
    "\n",
    "type()"
   ]
  },
  {
   "cell_type": "code",
   "execution_count": 13,
   "metadata": {},
   "outputs": [
    {
     "data": {
      "text/plain": [
       "(type, __main__.Bird)"
      ]
     },
     "execution_count": 13,
     "metadata": {},
     "output_type": "execute_result"
    }
   ],
   "source": [
    "type(Bird), type(bird),"
   ]
  },
  {
   "cell_type": "code",
   "execution_count": 14,
   "metadata": {
    "slideshow": {
     "slide_type": "subslide"
    }
   },
   "outputs": [
    {
     "data": {
      "text/plain": [
       "['John Silver', 'Billy Bones']"
      ]
     },
     "execution_count": 14,
     "metadata": {},
     "output_type": "execute_result"
    }
   ],
   "source": [
    "class Whatever(object):\n",
    "    pass\n",
    "\n",
    "w = Whatever()\n",
    "w.pirates = ['John Silver', 'Billy Bones']\n",
    "w.pirates"
   ]
  },
  {
   "cell_type": "markdown",
   "metadata": {
    "slideshow": {
     "slide_type": "slide"
    }
   },
   "source": [
    "### Методы класса"
   ]
  },
  {
   "cell_type": "code",
   "execution_count": 16,
   "metadata": {
    "slideshow": {
     "slide_type": "-"
    }
   },
   "outputs": [
    {
     "name": "stdout",
     "output_type": "stream",
     "text": [
      "Pew pew pew\n"
     ]
    },
    {
     "data": {
      "text/plain": [
       "<bound method Bird.tweet of <__main__.Bird object at 0x7f9c1fe49fa0>>"
      ]
     },
     "execution_count": 16,
     "metadata": {},
     "output_type": "execute_result"
    }
   ],
   "source": [
    "class Bird(object):\n",
    "    def tweet(self):\n",
    "        print('Pew pew pew')\n",
    "        \n",
    "b = Bird()\n",
    "b.tweet()\n",
    "b.tweet"
   ]
  },
  {
   "cell_type": "code",
   "execution_count": 19,
   "metadata": {},
   "outputs": [
    {
     "ename": "TypeError",
     "evalue": "tweet() takes 1 positional argument but 2 were given",
     "output_type": "error",
     "traceback": [
      "\u001b[0;31m---------------------------------------------------------------------------\u001b[0m",
      "\u001b[0;31mTypeError\u001b[0m                                 Traceback (most recent call last)",
      "\u001b[0;32m<ipython-input-19-64cc7d4f9cc8>\u001b[0m in \u001b[0;36m<module>\u001b[0;34m\u001b[0m\n\u001b[0;32m----> 1\u001b[0;31m \u001b[0mb\u001b[0m\u001b[0;34m.\u001b[0m\u001b[0mtweet\u001b[0m\u001b[0;34m(\u001b[0m\u001b[0mb\u001b[0m\u001b[0;34m)\u001b[0m\u001b[0;34m\u001b[0m\u001b[0;34m\u001b[0m\u001b[0m\n\u001b[0m",
      "\u001b[0;31mTypeError\u001b[0m: tweet() takes 1 positional argument but 2 were given"
     ]
    }
   ],
   "source": [
    "# b.tweet(b)"
   ]
  },
  {
   "cell_type": "code",
   "execution_count": 17,
   "metadata": {
    "slideshow": {
     "slide_type": "-"
    }
   },
   "outputs": [
    {
     "ename": "TypeError",
     "evalue": "tweet() missing 1 required positional argument: 'self'",
     "output_type": "error",
     "traceback": [
      "\u001b[0;31m---------------------------------------------------------------------------\u001b[0m",
      "\u001b[0;31mTypeError\u001b[0m                                 Traceback (most recent call last)",
      "\u001b[0;32m<ipython-input-17-c2367177959c>\u001b[0m in \u001b[0;36m<module>\u001b[0;34m\u001b[0m\n\u001b[0;32m----> 1\u001b[0;31m \u001b[0mBird\u001b[0m\u001b[0;34m.\u001b[0m\u001b[0mtweet\u001b[0m\u001b[0;34m(\u001b[0m\u001b[0;34m)\u001b[0m\u001b[0;34m\u001b[0m\u001b[0;34m\u001b[0m\u001b[0m\n\u001b[0m",
      "\u001b[0;31mTypeError\u001b[0m: tweet() missing 1 required positional argument: 'self'"
     ]
    }
   ],
   "source": [
    "Bird.tweet()"
   ]
  },
  {
   "cell_type": "code",
   "execution_count": 24,
   "metadata": {},
   "outputs": [
    {
     "name": "stdout",
     "output_type": "stream",
     "text": [
      "The base class of the class hierarchy.\n",
      "\n",
      "When called, it accepts no arguments and returns a new featureless\n",
      "instance that has no instance attributes and cannot be given any.\n",
      "\n"
     ]
    }
   ],
   "source": [
    "print(object.__doc__)"
   ]
  },
  {
   "cell_type": "code",
   "execution_count": 21,
   "metadata": {},
   "outputs": [],
   "source": [
    "class A(object):\n",
    "    pass"
   ]
  },
  {
   "cell_type": "code",
   "execution_count": 18,
   "metadata": {},
   "outputs": [
    {
     "name": "stdout",
     "output_type": "stream",
     "text": [
      "Pew pew pew\n"
     ]
    }
   ],
   "source": [
    "Bird.tweet(b)"
   ]
  },
  {
   "cell_type": "markdown",
   "metadata": {
    "slideshow": {
     "slide_type": "slide"
    }
   },
   "source": [
    "### self\n",
    "\n",
    "Аналогичен this в C++ и Java, передаётся явно"
   ]
  },
  {
   "cell_type": "code",
   "execution_count": 25,
   "metadata": {
    "slideshow": {
     "slide_type": "-"
    }
   },
   "outputs": [
    {
     "name": "stdout",
     "output_type": "stream",
     "text": [
      "Tweet! It's 0 tweet totay!\n",
      "Tweet! It's 1 tweet totay!\n"
     ]
    }
   ],
   "source": [
    "class Bird(object):\n",
    "    tweet_count = 0  # class atribute\n",
    "    \n",
    "    def tweet(self):\n",
    "        print(\"Tweet! It's {} tweet totay!\".format(self.tweet_count))\n",
    "        self.tweet_count += 1\n",
    "        \n",
    "b = Bird()\n",
    "b.tweet()\n",
    "b.tweet()\n"
   ]
  },
  {
   "cell_type": "code",
   "execution_count": 26,
   "metadata": {},
   "outputs": [
    {
     "data": {
      "text/plain": [
       "2"
      ]
     },
     "execution_count": 26,
     "metadata": {},
     "output_type": "execute_result"
    }
   ],
   "source": [
    "b.tweet_count"
   ]
  },
  {
   "cell_type": "code",
   "execution_count": 27,
   "metadata": {},
   "outputs": [
    {
     "data": {
      "text/plain": [
       "0"
      ]
     },
     "execution_count": 27,
     "metadata": {},
     "output_type": "execute_result"
    }
   ],
   "source": [
    "bird = Bird()\n",
    "bird.tweet_count"
   ]
  },
  {
   "cell_type": "code",
   "execution_count": 109,
   "metadata": {
    "slideshow": {
     "slide_type": "slide"
    }
   },
   "outputs": [
    {
     "name": "stdout",
     "output_type": "stream",
     "text": [
      "['Joe']\n",
      "['Joe', 'Bill']\n"
     ]
    }
   ],
   "source": [
    "class CustomerList(object):\n",
    "    names = []\n",
    "    def add_customer(self, customer):\n",
    "        self.names.append(customer)\n",
    "        print(self.names)\n",
    "\n",
    "a, b = CustomerList(), CustomerList()\n",
    "a.add_customer('Joe')\n",
    "b.add_customer('Bill')"
   ]
  },
  {
   "cell_type": "code",
   "execution_count": 88,
   "metadata": {},
   "outputs": [
    {
     "data": {
      "text/plain": [
       "['Joe', 'Bill']"
      ]
     },
     "execution_count": 88,
     "metadata": {},
     "output_type": "execute_result"
    }
   ],
   "source": [
    "a.names"
   ]
  },
  {
   "cell_type": "code",
   "execution_count": 89,
   "metadata": {},
   "outputs": [
    {
     "data": {
      "text/plain": [
       "['Joe', 'Bill']"
      ]
     },
     "execution_count": 89,
     "metadata": {},
     "output_type": "execute_result"
    }
   ],
   "source": [
    "b.names"
   ]
  },
  {
   "cell_type": "code",
   "execution_count": 110,
   "metadata": {},
   "outputs": [
    {
     "data": {
      "text/plain": [
       "True"
      ]
     },
     "execution_count": 110,
     "metadata": {},
     "output_type": "execute_result"
    }
   ],
   "source": [
    "a.names is b.names"
   ]
  },
  {
   "cell_type": "code",
   "execution_count": 111,
   "metadata": {},
   "outputs": [
    {
     "name": "stdout",
     "output_type": "stream",
     "text": [
      "['Joe', 'Bill', 'Joe']\n",
      "['Joe', 'Bill', 'Joe', 'Bill']\n"
     ]
    }
   ],
   "source": [
    "a = CustomerList()\n",
    "b = CustomerList()\n",
    "a.add_customer('Joe')\n",
    "b.add_customer('Bill')"
   ]
  },
  {
   "cell_type": "markdown",
   "metadata": {
    "slideshow": {
     "slide_type": "slide"
    }
   },
   "source": [
    "### __init__"
   ]
  },
  {
   "cell_type": "code",
   "execution_count": 34,
   "metadata": {},
   "outputs": [
    {
     "data": {
      "text/plain": [
       "True"
      ]
     },
     "execution_count": 34,
     "metadata": {},
     "output_type": "execute_result"
    }
   ],
   "source": [
    "a = [1, 2]\n",
    "len(a) == a.__len__()\n",
    "a[1] == a.__getitem__(1)"
   ]
  },
  {
   "cell_type": "code",
   "execution_count": 30,
   "metadata": {
    "slideshow": {
     "slide_type": "-"
    }
   },
   "outputs": [
    {
     "name": "stdout",
     "output_type": "stream",
     "text": [
      "['Joe']\n",
      "['Bill']\n"
     ]
    }
   ],
   "source": [
    "class CustomerList(object):\n",
    "    def __init__(self):#, #a, b, c, d, e):\n",
    "        self.names = []  # object atributes\n",
    "#         self.a = a\n",
    "#         self.b = b\n",
    "#         self.c = c\n",
    "#         self.d = d\n",
    "#         self.e = e\n",
    "\n",
    "    def add_customer(self, customer):\n",
    "        self.names.append(customer)\n",
    "        print(self.names)\n",
    "\n",
    "a, b = CustomerList(), CustomerList()\n",
    "a.add_customer('Joe')\n",
    "b.add_customer('Bill')"
   ]
  },
  {
   "cell_type": "code",
   "execution_count": 35,
   "metadata": {
    "slideshow": {
     "slide_type": "slide"
    }
   },
   "outputs": [
    {
     "data": {
      "text/plain": [
       "90"
      ]
     },
     "execution_count": 35,
     "metadata": {},
     "output_type": "execute_result"
    }
   ],
   "source": [
    "class Customer(object):\n",
    "    def __init__(self, name, balance=0):\n",
    "        self.name = name\n",
    "        self._balance = balance\n",
    "        \n",
    "    def withdraw(self, amount):\n",
    "        if amount < self._balance:\n",
    "            self._balance -= amount\n",
    "            return self._balance\n",
    "        else:\n",
    "            print('nott enough money')\n",
    "\n",
    "    def deposit(self, amount):\n",
    "        self._balance += amount\n",
    "        return self._balance\n",
    "\n",
    "c = Customer('Danny', 100)\n",
    "c.withdraw(10)"
   ]
  },
  {
   "cell_type": "markdown",
   "metadata": {
    "slideshow": {
     "slide_type": "slide"
    }
   },
   "source": [
    "### Атрибуты класса  vs Атрибуты экземпляра\n"
   ]
  },
  {
   "cell_type": "code",
   "execution_count": 115,
   "metadata": {},
   "outputs": [
    {
     "data": {
      "text/plain": [
       "([], [])"
      ]
     },
     "execution_count": 115,
     "metadata": {},
     "output_type": "execute_result"
    }
   ],
   "source": [
    "class Test(object):\n",
    "    classattr = []\n",
    "    \n",
    "    def __init__(self):\n",
    "        self.instanceattr = []\n",
    "        \n",
    "t = Test()\n",
    "Test.classattr, t.instanceattr"
   ]
  },
  {
   "cell_type": "code",
   "execution_count": 116,
   "metadata": {},
   "outputs": [
    {
     "data": {
      "text/plain": [
       "[]"
      ]
     },
     "execution_count": 116,
     "metadata": {},
     "output_type": "execute_result"
    }
   ],
   "source": [
    "t.classattr"
   ]
  },
  {
   "cell_type": "code",
   "execution_count": 117,
   "metadata": {},
   "outputs": [
    {
     "ename": "AttributeError",
     "evalue": "type object 'Test' has no attribute 'instanceattr'",
     "output_type": "error",
     "traceback": [
      "\u001b[0;31m---------------------------------------------------------------------------\u001b[0m",
      "\u001b[0;31mAttributeError\u001b[0m                            Traceback (most recent call last)",
      "\u001b[0;32m<ipython-input-117-23f09e51fb42>\u001b[0m in \u001b[0;36m<module>\u001b[0;34m()\u001b[0m\n\u001b[0;32m----> 1\u001b[0;31m \u001b[0mTest\u001b[0m\u001b[0;34m.\u001b[0m\u001b[0minstanceattr\u001b[0m\u001b[0;34m\u001b[0m\u001b[0m\n\u001b[0m",
      "\u001b[0;31mAttributeError\u001b[0m: type object 'Test' has no attribute 'instanceattr'"
     ]
    }
   ],
   "source": [
    "Test.instanceattr"
   ]
  },
  {
   "cell_type": "markdown",
   "metadata": {
    "slideshow": {
     "slide_type": "slide"
    }
   },
   "source": [
    "## Именования _ __"
   ]
  },
  {
   "cell_type": "code",
   "execution_count": 125,
   "metadata": {},
   "outputs": [
    {
     "data": {
      "text/plain": [
       "7"
      ]
     },
     "execution_count": 125,
     "metadata": {},
     "output_type": "execute_result"
    }
   ],
   "source": [
    "ford._mile_per_liter = 7\n",
    "ford."
   ]
  },
  {
   "cell_type": "code",
   "execution_count": 54,
   "metadata": {
    "scrolled": true,
    "slideshow": {
     "slide_type": "-"
    }
   },
   "outputs": [
    {
     "name": "stdout",
     "output_type": "stream",
     "text": [
      "car\n",
      "8\n",
      "3\n",
      "4\n"
     ]
    },
    {
     "ename": "AttributeError",
     "evalue": "'Car' object has no attribute '__efficency_score'",
     "output_type": "error",
     "traceback": [
      "\u001b[0;31m---------------------------------------------------------------------------\u001b[0m",
      "\u001b[0;31mAttributeError\u001b[0m                            Traceback (most recent call last)",
      "\u001b[0;32m<ipython-input-54-621b0502ef2f>\u001b[0m in \u001b[0;36m<module>\u001b[0;34m\u001b[0m\n\u001b[1;32m     17\u001b[0m \u001b[0mford\u001b[0m\u001b[0;34m.\u001b[0m\u001b[0mef_score\u001b[0m\u001b[0;34m(\u001b[0m\u001b[0;34m)\u001b[0m\u001b[0;34m\u001b[0m\u001b[0;34m\u001b[0m\u001b[0m\n\u001b[1;32m     18\u001b[0m \u001b[0mford\u001b[0m\u001b[0;34m.\u001b[0m\u001b[0mef_score\u001b[0m\u001b[0;34m(\u001b[0m\u001b[0;34m)\u001b[0m\u001b[0;34m\u001b[0m\u001b[0;34m\u001b[0m\u001b[0m\n\u001b[0;32m---> 19\u001b[0;31m \u001b[0mprint\u001b[0m\u001b[0;34m(\u001b[0m\u001b[0mford\u001b[0m\u001b[0;34m.\u001b[0m\u001b[0m__efficency_score\u001b[0m\u001b[0;34m)\u001b[0m\u001b[0;34m\u001b[0m\u001b[0;34m\u001b[0m\u001b[0m\n\u001b[0m",
      "\u001b[0;31mAttributeError\u001b[0m: 'Car' object has no attribute '__efficency_score'"
     ]
    }
   ],
   "source": [
    "class Car(object):\n",
    "    def __init__(self):\n",
    "        self.name = 'car'\n",
    "        self.mile = 1\n",
    "        self.__efficency_score = 2\n",
    "        self._mile_per_liter = 6 + self.__efficency_score\n",
    "    \n",
    "    def ef_score(self):\n",
    "        self.__efficency_score += 1\n",
    "        print(self.__efficency_score)\n",
    "\n",
    "\n",
    "ford = Car()\n",
    "\n",
    "print(ford.name)\n",
    "print(ford._mile_per_liter)\n",
    "ford.ef_score()\n",
    "ford.ef_score()\n",
    "print(ford.__efficency_score)"
   ]
  },
  {
   "cell_type": "code",
   "execution_count": 60,
   "metadata": {},
   "outputs": [],
   "source": [
    "ford.__class__.__efficency_score = 1 # class Car:     __efficency_score = 1"
   ]
  },
  {
   "cell_type": "code",
   "execution_count": 62,
   "metadata": {},
   "outputs": [
    {
     "name": "stdout",
     "output_type": "stream",
     "text": [
      "1\n"
     ]
    }
   ],
   "source": [
    "print(ford.__class__.__efficency_score)"
   ]
  },
  {
   "cell_type": "code",
   "execution_count": 61,
   "metadata": {},
   "outputs": [
    {
     "name": "stdout",
     "output_type": "stream",
     "text": [
      "6\n"
     ]
    }
   ],
   "source": [
    "ford.ef_score()"
   ]
  },
  {
   "cell_type": "markdown",
   "metadata": {
    "slideshow": {
     "slide_type": "slide"
    }
   },
   "source": [
    "### В копилку способов удивиться"
   ]
  },
  {
   "cell_type": "code",
   "execution_count": 53,
   "metadata": {},
   "outputs": [
    {
     "name": "stdout",
     "output_type": "stream",
     "text": [
      "first one\n"
     ]
    }
   ],
   "source": [
    "import datetime \n",
    "if datetime.datetime.now().second % 2:\n",
    "    class Test(object):\n",
    "        def call(self):\n",
    "            print('first one')\n",
    "else:\n",
    "    class Test(object):\n",
    "        def call(self):\n",
    "            print('second one')\n",
    "            \n",
    "t = Test()\n",
    "t.call()"
   ]
  },
  {
   "cell_type": "markdown",
   "metadata": {
    "slideshow": {
     "slide_type": "slide"
    }
   },
   "source": [
    "### Внутренние переменные"
   ]
  },
  {
   "cell_type": "code",
   "execution_count": 57,
   "metadata": {},
   "outputs": [
    {
     "data": {
      "text/plain": [
       "<__main__.Nothing at 0x7f9c216d2a90>"
      ]
     },
     "execution_count": 57,
     "metadata": {},
     "output_type": "execute_result"
    }
   ],
   "source": [
    "n = Nothing()\n",
    "b = n.__class__()\n",
    "b"
   ]
  },
  {
   "cell_type": "code",
   "execution_count": 55,
   "metadata": {},
   "outputs": [
    {
     "name": "stdout",
     "output_type": "stream",
     "text": [
      "Nothing\n",
      "pure nothingness \n",
      "__main__\n"
     ]
    }
   ],
   "source": [
    "class Nothing(object):\n",
    "    \"\"\"pure nothingness \"\"\"\n",
    "    pass\n",
    "\n",
    "print(Nothing.__name__)\n",
    "print(Nothing.__doc__)\n",
    "print(Nothing.__module__)"
   ]
  },
  {
   "cell_type": "code",
   "execution_count": 141,
   "metadata": {},
   "outputs": [
    {
     "data": {
      "text/plain": [
       "mappingproxy({'__module__': '__main__',\n",
       "              '__doc__': 'pure nothingness ',\n",
       "              '__dict__': <attribute '__dict__' of 'Nothing' objects>,\n",
       "              '__weakref__': <attribute '__weakref__' of 'Nothing' objects>})"
      ]
     },
     "execution_count": 141,
     "metadata": {},
     "output_type": "execute_result"
    }
   ],
   "source": [
    "Nothing.__dict__"
   ]
  },
  {
   "cell_type": "markdown",
   "metadata": {
    "slideshow": {
     "slide_type": "slide"
    }
   },
   "source": [
    "## \\_\\_dict\\_\\_\n",
    "Работа с полями объекта == работа с его \\_\\_dict\\_\\_"
   ]
  },
  {
   "cell_type": "code",
   "execution_count": 63,
   "metadata": {
    "slideshow": {
     "slide_type": "-"
    }
   },
   "outputs": [
    {
     "name": "stdout",
     "output_type": "stream",
     "text": [
      "{'__module__': '__main__', 'classvar': 'Hi!', '__init__': <function TestDict.__init__ at 0x7f9c217ed3a0>, '__dict__': <attribute '__dict__' of 'TestDict' objects>, '__weakref__': <attribute '__weakref__' of 'TestDict' objects>, '__doc__': None}\n",
      "Hi!\n",
      "{'objectvar': 42}\n"
     ]
    }
   ],
   "source": [
    "class TestDict(object):\n",
    "    classvar = 'Hi!'\n",
    "    def __init__(self):\n",
    "        self.objectvar = 42\n",
    "\n",
    "t = TestDict()\n",
    "print(TestDict.__dict__)\n",
    "print(TestDict.__dict__['classvar'])\n",
    "print(t.__dict__)"
   ]
  },
  {
   "cell_type": "code",
   "execution_count": 64,
   "metadata": {},
   "outputs": [],
   "source": [
    "t.new_obj_var = 15"
   ]
  },
  {
   "cell_type": "code",
   "execution_count": null,
   "metadata": {},
   "outputs": [],
   "source": []
  },
  {
   "cell_type": "markdown",
   "metadata": {
    "slideshow": {
     "slide_type": "slide"
    }
   },
   "source": [
    "## \\_\\_slots\\_\\_ *\n",
    "\n",
    "Фиксируют возможные поля в классе\n",
    "\n",
    "*редкая вещь"
   ]
  },
  {
   "cell_type": "code",
   "execution_count": 65,
   "metadata": {},
   "outputs": [
    {
     "ename": "AttributeError",
     "evalue": "'TestSlots' object has no attribute 'c'",
     "output_type": "error",
     "traceback": [
      "\u001b[0;31m---------------------------------------------------------------------------\u001b[0m",
      "\u001b[0;31mAttributeError\u001b[0m                            Traceback (most recent call last)",
      "\u001b[0;32m<ipython-input-65-61fc4d2c6516>\u001b[0m in \u001b[0;36m<module>\u001b[0;34m\u001b[0m\n\u001b[1;32m      5\u001b[0m         \u001b[0mself\u001b[0m\u001b[0;34m.\u001b[0m\u001b[0mc\u001b[0m \u001b[0;34m=\u001b[0m \u001b[0;36m42\u001b[0m\u001b[0;34m\u001b[0m\u001b[0;34m\u001b[0m\u001b[0m\n\u001b[1;32m      6\u001b[0m \u001b[0;34m\u001b[0m\u001b[0m\n\u001b[0;32m----> 7\u001b[0;31m \u001b[0mt\u001b[0m \u001b[0;34m=\u001b[0m \u001b[0mTestSlots\u001b[0m\u001b[0;34m(\u001b[0m\u001b[0;34m)\u001b[0m\u001b[0;34m\u001b[0m\u001b[0;34m\u001b[0m\u001b[0m\n\u001b[0m",
      "\u001b[0;32m<ipython-input-65-61fc4d2c6516>\u001b[0m in \u001b[0;36m__init__\u001b[0;34m(self)\u001b[0m\n\u001b[1;32m      3\u001b[0m     \u001b[0;32mdef\u001b[0m \u001b[0m__init__\u001b[0m\u001b[0;34m(\u001b[0m\u001b[0mself\u001b[0m\u001b[0;34m)\u001b[0m\u001b[0;34m:\u001b[0m\u001b[0;34m\u001b[0m\u001b[0;34m\u001b[0m\u001b[0m\n\u001b[1;32m      4\u001b[0m         \u001b[0mself\u001b[0m\u001b[0;34m.\u001b[0m\u001b[0ma\u001b[0m \u001b[0;34m=\u001b[0m \u001b[0;36m1\u001b[0m\u001b[0;34m\u001b[0m\u001b[0;34m\u001b[0m\u001b[0m\n\u001b[0;32m----> 5\u001b[0;31m         \u001b[0mself\u001b[0m\u001b[0;34m.\u001b[0m\u001b[0mc\u001b[0m \u001b[0;34m=\u001b[0m \u001b[0;36m42\u001b[0m\u001b[0;34m\u001b[0m\u001b[0;34m\u001b[0m\u001b[0m\n\u001b[0m\u001b[1;32m      6\u001b[0m \u001b[0;34m\u001b[0m\u001b[0m\n\u001b[1;32m      7\u001b[0m \u001b[0mt\u001b[0m \u001b[0;34m=\u001b[0m \u001b[0mTestSlots\u001b[0m\u001b[0;34m(\u001b[0m\u001b[0;34m)\u001b[0m\u001b[0;34m\u001b[0m\u001b[0;34m\u001b[0m\u001b[0m\n",
      "\u001b[0;31mAttributeError\u001b[0m: 'TestSlots' object has no attribute 'c'"
     ]
    }
   ],
   "source": [
    "class TestSlots(object):\n",
    "    __slots__ = ['a', 'b']\n",
    "    def __init__(self):\n",
    "        self.a = 1\n",
    "        self.c = 42\n",
    "\n",
    "t = TestSlots()"
   ]
  },
  {
   "cell_type": "markdown",
   "metadata": {
    "slideshow": {
     "slide_type": "slide"
    }
   },
   "source": [
    "### Связанные методы"
   ]
  },
  {
   "cell_type": "code",
   "execution_count": 72,
   "metadata": {
    "slideshow": {
     "slide_type": "-"
    }
   },
   "outputs": [
    {
     "data": {
      "text/plain": [
       "<function __main__.Bird.tweet(self)>"
      ]
     },
     "execution_count": 72,
     "metadata": {},
     "output_type": "execute_result"
    }
   ],
   "source": [
    "class Bird(object):\n",
    "    \n",
    "    def tweet(self):\n",
    "        print(\"Tweet!\")\n",
    "        \n",
    "b = Bird()\n",
    "Bird.tweet"
   ]
  },
  {
   "cell_type": "code",
   "execution_count": 73,
   "metadata": {},
   "outputs": [
    {
     "name": "stdout",
     "output_type": "stream",
     "text": [
      "Tweet!\n"
     ]
    }
   ],
   "source": [
    "b.tweet() # first argument fixed to b"
   ]
  },
  {
   "cell_type": "markdown",
   "metadata": {
    "slideshow": {
     "slide_type": "slide"
    }
   },
   "source": [
    "### Наследование"
   ]
  },
  {
   "cell_type": "code",
   "execution_count": 74,
   "metadata": {},
   "outputs": [],
   "source": [
    "class Car(object):\n",
    "    def __init__(self, miles, model):\n",
    "        self.wheels = 4\n",
    "        self.miles = miles\n",
    "        self.model = model\n",
    "\n",
    "    def price(self):\n",
    "        return 6000 - (.10 * self.miles)\n",
    "\n",
    "    \n",
    "ford = Car(10000, 'Ford')\n",
    "toyota = Car(5000, 'Toyota')"
   ]
  },
  {
   "cell_type": "code",
   "execution_count": 149,
   "metadata": {
    "slideshow": {
     "slide_type": "subslide"
    }
   },
   "outputs": [],
   "source": [
    "class Car(object):\n",
    "    def __init__(self, miles, model):\n",
    "        self.wheels = 4\n",
    "        self.miles = miles\n",
    "        self.model = model\n",
    "\n",
    "    def price(self):\n",
    "        return 6000 - (.10 * self.miles)\n",
    "\n",
    "    \n",
    "class Truck(object):\n",
    "    def __init__(self, wheels, miles, model):\n",
    "        self.wheels = wheels\n",
    "        self.miles = miles\n",
    "        self.model = model\n",
    "        \n",
    "    def price(self):\n",
    "        return 10000 - (.10 * self.miles)"
   ]
  },
  {
   "cell_type": "code",
   "execution_count": 75,
   "metadata": {
    "slideshow": {
     "slide_type": "subslide"
    }
   },
   "outputs": [],
   "source": [
    "class Vehicle(object):\n",
    "    def __init__(self, wheels, miles, model, base_price):\n",
    "        self.wheels = wheels\n",
    "        self.miles = miles\n",
    "        self.model = model\n",
    "        self.base_price = base_price\n",
    "    \n",
    "    def price(self):\n",
    "        return self.base_price - (.10 * self.miles)\n",
    "    \n",
    "ford = Vehicle(4, 10000, 'Ford', 6000)\n",
    "truck = Vehicle(4, 10000, 'Truck', 10000)"
   ]
  },
  {
   "cell_type": "markdown",
   "metadata": {
    "slideshow": {
     "slide_type": "slide"
    }
   },
   "source": [
    "### Наследование 1"
   ]
  },
  {
   "cell_type": "code",
   "execution_count": 76,
   "metadata": {},
   "outputs": [
    {
     "data": {
      "text/plain": [
       "9999.5"
      ]
     },
     "execution_count": 76,
     "metadata": {},
     "output_type": "execute_result"
    }
   ],
   "source": [
    "class Vehicle(object):\n",
    "    def __init__(self, wheels, miles, model, base_price):\n",
    "        self.wheels = wheels\n",
    "        self.miles = miles\n",
    "        self.model = model\n",
    "        self.base_price = base_price\n",
    "    \n",
    "    def price(self):\n",
    "        return self.base_price - (.10 * self.miles)\n",
    "\n",
    "class Car(Vehicle):\n",
    "    def __init__(self, miles, model):\n",
    "        self.wheels = 4\n",
    "        self.miles = miles\n",
    "        self.model = model\n",
    "        self.base_price = 10000\n",
    "\n",
    "c = Car(5, 'Tesla')\n",
    "c.price()     # check whether \"price\" present in Car? -> No\n",
    "              # check wheter \"price\" present in Vehicle? -> Yes"
   ]
  },
  {
   "cell_type": "markdown",
   "metadata": {
    "slideshow": {
     "slide_type": "slide"
    }
   },
   "source": [
    "### Наследование 2"
   ]
  },
  {
   "cell_type": "code",
   "execution_count": 151,
   "metadata": {},
   "outputs": [
    {
     "data": {
      "text/plain": [
       "__main__.Car"
      ]
     },
     "execution_count": 151,
     "metadata": {},
     "output_type": "execute_result"
    }
   ],
   "source": [
    "class Vehicle(object):\n",
    "    def __init__(self, wheels, miles, model, base_price):\n",
    "        self.wheels = wheels\n",
    "        self.miles = miles\n",
    "        self.model = model\n",
    "        self.base_price = base_price\n",
    "    \n",
    "    def price(self):\n",
    "        return self.base_price - (.10 * self.miles)\n",
    "\n",
    "class Car(Vehicle):\n",
    "    def __init__(self, miles, model):\n",
    "        Vehicle.__init__(self, 4, miles, model, 10000)\n",
    "\n",
    "c = Car(5, 'Tesla')\n",
    "type(c)"
   ]
  },
  {
   "cell_type": "markdown",
   "metadata": {
    "slideshow": {
     "slide_type": "slide"
    }
   },
   "source": [
    "### Наследование 3"
   ]
  },
  {
   "cell_type": "code",
   "execution_count": 77,
   "metadata": {},
   "outputs": [],
   "source": [
    "class Vehicle(object):\n",
    "    base_price = 0\n",
    "    def __init__(self, wheels, miles, model):\n",
    "        self.wheels = wheels\n",
    "        self.miles = miles\n",
    "        self.model = model\n",
    "    \n",
    "    def price(self):\n",
    "        return self.base_price - (.10 * self.miles)\n",
    "\n",
    "class Car(Vehicle):\n",
    "    base_price = 6000\n",
    "    def __init__(self, miles, model):\n",
    "        Vehicle.__init__(self, 4, miles, model)\n",
    "\n",
    "class Truck(Vehicle):\n",
    "    base_price = 10000\n",
    "    \n",
    "\n",
    "c = Car(5000, 'Tesla')\n",
    "c = Truck(8, 1000, 'Otto')"
   ]
  },
  {
   "cell_type": "code",
   "execution_count": 78,
   "metadata": {},
   "outputs": [
    {
     "data": {
      "text/plain": [
       "8"
      ]
     },
     "execution_count": 78,
     "metadata": {},
     "output_type": "execute_result"
    }
   ],
   "source": [
    "c.wheels"
   ]
  },
  {
   "cell_type": "code",
   "execution_count": 79,
   "metadata": {},
   "outputs": [
    {
     "data": {
      "text/plain": [
       "'Otto'"
      ]
     },
     "execution_count": 79,
     "metadata": {},
     "output_type": "execute_result"
    }
   ],
   "source": [
    "a = Truck(8, 1000, 'Otto')\n",
    "a.model"
   ]
  },
  {
   "cell_type": "code",
   "execution_count": 80,
   "metadata": {},
   "outputs": [
    {
     "data": {
      "text/plain": [
       "9900.0"
      ]
     },
     "execution_count": 80,
     "metadata": {},
     "output_type": "execute_result"
    }
   ],
   "source": [
    "a.price()"
   ]
  },
  {
   "cell_type": "markdown",
   "metadata": {
    "slideshow": {
     "slide_type": "slide"
    }
   },
   "source": [
    "### Наследование : Trivia\n",
    "\n",
    "- У класса может быть один или несколько предков (по умолчанию один - object)\n",
    "- При обращении к полям и методам обьекта Python пытается найти в самом объекте (== в его \\_\\_dict\\_\\_), потом в его классе, потом в его предках в порядке называемом MRO (Method resolution order) (описание алгоритма https://en.wikipedia.org/wiki/C3_linearization)\n",
    "- Посмотреть MRO обьекта можно позвав метод .mro()"
   ]
  },
  {
   "cell_type": "code",
   "execution_count": 83,
   "metadata": {},
   "outputs": [
    {
     "data": {
      "text/plain": [
       "[__main__.A, __main__.Vehicle, object]"
      ]
     },
     "execution_count": 83,
     "metadata": {},
     "output_type": "execute_result"
    }
   ],
   "source": [
    "class A(Vehicle):\n",
    "    pass\n",
    "\n",
    "A.mro()\n",
    "# a = A(1, 2, 3)\n",
    "# a.mro()"
   ]
  },
  {
   "cell_type": "markdown",
   "metadata": {
    "slideshow": {
     "slide_type": "slide"
    }
   },
   "source": [
    "### Diamond Inheritance problems"
   ]
  },
  {
   "cell_type": "code",
   "execution_count": 86,
   "metadata": {
    "slideshow": {
     "slide_type": "-"
    }
   },
   "outputs": [
    {
     "name": "stdout",
     "output_type": "stream",
     "text": [
      "Platypus::Init\n",
      "Mammal::Init\n",
      "Animal::Init\n",
      "Swimming::Init\n",
      "Animal::Init\n"
     ]
    },
    {
     "data": {
      "text/plain": [
       "(0, True)"
      ]
     },
     "execution_count": 86,
     "metadata": {},
     "output_type": "execute_result"
    }
   ],
   "source": [
    "class Animal(object):\n",
    "    def __init__(self):\n",
    "        print('Animal::Init')\n",
    "        self.legs = 0\n",
    "\n",
    "class Mammal(Animal):\n",
    "    def __init__(self):\n",
    "        print('Mammal::Init')\n",
    "        Animal.__init__(self)\n",
    "        self.legs = 4\n",
    "\n",
    "        \n",
    "class Swimming(Animal):\n",
    "    def __init__(self):\n",
    "        print('Swimming::Init')\n",
    "        Animal.__init__(self)\n",
    "        self.can_swim = True\n",
    "\n",
    "        \n",
    "class Platypus(Mammal, Swimming):\n",
    "    def __init__(self):\n",
    "        print('Platypus::Init')\n",
    "        Mammal.__init__(self)  # self.legs = 4\n",
    "                                 # self.can_swim -- does not exist\n",
    "        Swimming.__init__(self)    # self.legs = 0\n",
    "                                 # self.can_swim = True\n",
    "# Animal\n",
    "# Mammal, Swimming\n",
    "# Platypus\n",
    "        \n",
    "Joe = Platypus()\n",
    "Joe.legs, Joe.can_swim"
   ]
  },
  {
   "cell_type": "markdown",
   "metadata": {
    "slideshow": {
     "slide_type": "slide"
    }
   },
   "source": [
    "### super"
   ]
  },
  {
   "cell_type": "code",
   "execution_count": 96,
   "metadata": {},
   "outputs": [
    {
     "name": "stdout",
     "output_type": "stream",
     "text": [
      "Platypus::Init\n",
      "Mammal::Init\n",
      "Swimming::Init\n",
      "Animal::Init\n",
      "4\n"
     ]
    }
   ],
   "source": [
    "class Animal(object):\n",
    "    def __init__(self):\n",
    "        print('Animal::Init')\n",
    "        self.legs = 0\n",
    "\n",
    "        \n",
    "class Mammal(Animal):\n",
    "    def __init__(self):\n",
    "        print('Mammal::Init')\n",
    "        super().__init__()\n",
    "        self.legs = 4\n",
    "\n",
    "        \n",
    "class Swimming(Animal):\n",
    "    def __init__(self):\n",
    "        print('Swimming::Init')\n",
    "        super().__init__()\n",
    "        self.legs = 3\n",
    "    \n",
    "    def swim(self):\n",
    "        print('i am swimming')\n",
    "\n",
    "        \n",
    "class Platypus(Mammal, Swimming):\n",
    "    def __init__(self):\n",
    "        print('Platypus::Init')\n",
    "        super().__init__()\n",
    "\n",
    "        # super().__init__()\n",
    "        # super().swim()\n",
    "\n",
    "\n",
    "        \n",
    "Joe = Platypus()\n",
    "print(Joe.legs)"
   ]
  },
  {
   "cell_type": "code",
   "execution_count": 97,
   "metadata": {},
   "outputs": [
    {
     "data": {
      "text/plain": [
       "[__main__.Platypus,\n",
       " __main__.Mammal,\n",
       " __main__.Swimming,\n",
       " __main__.Animal,\n",
       " object]"
      ]
     },
     "execution_count": 97,
     "metadata": {},
     "output_type": "execute_result"
    }
   ],
   "source": [
    "Platypus.mro()"
   ]
  },
  {
   "cell_type": "markdown",
   "metadata": {
    "slideshow": {
     "slide_type": "slide"
    }
   },
   "source": [
    "### Полезные предикаты"
   ]
  },
  {
   "cell_type": "code",
   "execution_count": 98,
   "metadata": {
    "slideshow": {
     "slide_type": "-"
    }
   },
   "outputs": [
    {
     "data": {
      "text/plain": [
       "True"
      ]
     },
     "execution_count": 98,
     "metadata": {},
     "output_type": "execute_result"
    }
   ],
   "source": [
    "isinstance(Joe, Platypus)"
   ]
  },
  {
   "cell_type": "code",
   "execution_count": 99,
   "metadata": {},
   "outputs": [
    {
     "data": {
      "text/plain": [
       "True"
      ]
     },
     "execution_count": 99,
     "metadata": {},
     "output_type": "execute_result"
    }
   ],
   "source": [
    "isinstance(Joe, (Animal, int))  # second arguemnts could be tuple"
   ]
  },
  {
   "cell_type": "code",
   "execution_count": 101,
   "metadata": {},
   "outputs": [
    {
     "data": {
      "text/plain": [
       "False"
      ]
     },
     "execution_count": 101,
     "metadata": {},
     "output_type": "execute_result"
    }
   ],
   "source": [
    "issubclass(str, Animal)"
   ]
  },
  {
   "cell_type": "code",
   "execution_count": 102,
   "metadata": {},
   "outputs": [
    {
     "data": {
      "text/plain": [
       "2"
      ]
     },
     "execution_count": 102,
     "metadata": {},
     "output_type": "execute_result"
    }
   ],
   "source": [
    "a = [1, 2]\n",
    "len(a)  # a.__len__()"
   ]
  },
  {
   "cell_type": "markdown",
   "metadata": {
    "slideshow": {
     "slide_type": "slide"
    }
   },
   "source": [
    "## Магические методы классов\n",
    "\n",
    "Магические методы классов -- это методы придающие им какие-то свойства. Их имена начинаются с с двух подчеркиваний, например -- метод \\_\\_init\\_\\_. Вызов магических методов в интерпретаторе происходит неявно."
   ]
  },
  {
   "cell_type": "code",
   "execution_count": 103,
   "metadata": {},
   "outputs": [],
   "source": [
    "class Bananas(object):\n",
    "    def __init__(self, count=4):\n",
    "        self.count = count"
   ]
  },
  {
   "cell_type": "code",
   "execution_count": 105,
   "metadata": {
    "slideshow": {
     "slide_type": "slide"
    }
   },
   "outputs": [
    {
     "name": "stdout",
     "output_type": "stream",
     "text": [
      "6 bananas!\n",
      "6 bananas!\n"
     ]
    },
    {
     "data": {
      "text/plain": [
       "Bananas(6)"
      ]
     },
     "execution_count": 105,
     "metadata": {},
     "output_type": "execute_result"
    }
   ],
   "source": [
    "class Bananas(object):\n",
    "    def __init__(self, count=4):\n",
    "        self.count = count\n",
    "    def __str__(self):\n",
    "        return '{} bananas!'.format(self.count)\n",
    "    def __repr__(self):\n",
    "        return 'Bananas({})'.format(self.count)\n",
    "\n",
    "b = Bananas(6)\n",
    "print(str(b)) # b.__str__()\n",
    "print(b)\n",
    "b"
   ]
  },
  {
   "cell_type": "markdown",
   "metadata": {},
   "source": [
    "### Арифметические операции"
   ]
  },
  {
   "cell_type": "code",
   "execution_count": 111,
   "metadata": {},
   "outputs": [
    {
     "data": {
      "text/plain": [
       "mappingproxy({'__repr__': <slot wrapper '__repr__' of 'object' objects>,\n",
       "              '__hash__': <slot wrapper '__hash__' of 'object' objects>,\n",
       "              '__str__': <slot wrapper '__str__' of 'object' objects>,\n",
       "              '__getattribute__': <slot wrapper '__getattribute__' of 'object' objects>,\n",
       "              '__setattr__': <slot wrapper '__setattr__' of 'object' objects>,\n",
       "              '__delattr__': <slot wrapper '__delattr__' of 'object' objects>,\n",
       "              '__lt__': <slot wrapper '__lt__' of 'object' objects>,\n",
       "              '__le__': <slot wrapper '__le__' of 'object' objects>,\n",
       "              '__eq__': <slot wrapper '__eq__' of 'object' objects>,\n",
       "              '__ne__': <slot wrapper '__ne__' of 'object' objects>,\n",
       "              '__gt__': <slot wrapper '__gt__' of 'object' objects>,\n",
       "              '__ge__': <slot wrapper '__ge__' of 'object' objects>,\n",
       "              '__init__': <slot wrapper '__init__' of 'object' objects>,\n",
       "              '__new__': <function object.__new__(*args, **kwargs)>,\n",
       "              '__reduce_ex__': <method '__reduce_ex__' of 'object' objects>,\n",
       "              '__reduce__': <method '__reduce__' of 'object' objects>,\n",
       "              '__subclasshook__': <method '__subclasshook__' of 'object' objects>,\n",
       "              '__init_subclass__': <method '__init_subclass__' of 'object' objects>,\n",
       "              '__format__': <method '__format__' of 'object' objects>,\n",
       "              '__sizeof__': <method '__sizeof__' of 'object' objects>,\n",
       "              '__dir__': <method '__dir__' of 'object' objects>,\n",
       "              '__class__': <attribute '__class__' of 'object' objects>,\n",
       "              '__doc__': 'The base class of the class hierarchy.\\n\\nWhen called, it accepts no arguments and returns a new featureless\\ninstance that has no instance attributes and cannot be given any.\\n'})"
      ]
     },
     "execution_count": 111,
     "metadata": {},
     "output_type": "execute_result"
    }
   ],
   "source": [
    "object.__dict__"
   ]
  },
  {
   "cell_type": "code",
   "execution_count": 112,
   "metadata": {
    "slideshow": {
     "slide_type": "slide"
    }
   },
   "outputs": [
    {
     "name": "stdout",
     "output_type": "stream",
     "text": [
      "10 bananas!\n"
     ]
    },
    {
     "data": {
      "text/plain": [
       "Bananas(7)"
      ]
     },
     "execution_count": 112,
     "metadata": {},
     "output_type": "execute_result"
    }
   ],
   "source": [
    "class Bananas(object):\n",
    "    def __init__(self, count=4):\n",
    "        self.count = count\n",
    "    def __str__(self):\n",
    "        return '{} bananas!'.format(self.count)\n",
    "    def __repr__(self):\n",
    "        return 'Bananas({})'.format(self.count)\n",
    "\n",
    "    def __add__(self, other):\n",
    "        return Bananas(self.count + other.count)\n",
    "\n",
    "    def __iadd__(self, other):\n",
    "        self.count += other.count  # be aware of the semantics\n",
    "        return self\n",
    "    \n",
    "        \n",
    "print(Bananas(6) + Bananas(4))\n",
    "b1 = Bananas(4)\n",
    "b2 = b1\n",
    "b1 += Bananas(3)\n",
    "b1"
   ]
  },
  {
   "cell_type": "markdown",
   "metadata": {
    "slideshow": {
     "slide_type": "slide"
    }
   },
   "source": [
    "### Сравнение"
   ]
  },
  {
   "cell_type": "code",
   "execution_count": 181,
   "metadata": {},
   "outputs": [
    {
     "name": "stdout",
     "output_type": "stream",
     "text": [
      "True\n",
      "True\n"
     ]
    }
   ],
   "source": [
    "class Bananas(object):\n",
    "    def __init__(self, count=4):\n",
    "        self.count = count\n",
    "    def __repr__(self):\n",
    "        return 'Bananas({})'.format(self.count)\n",
    "\n",
    "    def __lt__(self, other):   #  __gt__ __le__  __ge__\n",
    "        return self.count < other.count\n",
    "    \n",
    "    def __eq__(self, other):    \n",
    "        return self.count == other.count\n",
    "\n",
    "        \n",
    "print(Bananas(3) < Bananas(5))\n",
    "print(Bananas(5) == Bananas(5))"
   ]
  },
  {
   "cell_type": "markdown",
   "metadata": {
    "slideshow": {
     "slide_type": "slide"
    }
   },
   "source": [
    "### Арифметика"
   ]
  },
  {
   "cell_type": "code",
   "execution_count": 113,
   "metadata": {},
   "outputs": [
    {
     "data": {
      "text/plain": [
       "(Bananas(18), False)"
      ]
     },
     "execution_count": 113,
     "metadata": {},
     "output_type": "execute_result"
    }
   ],
   "source": [
    "class Bananas(object):\n",
    "    def __init__(self, count=4):\n",
    "        self.count = count\n",
    "        \n",
    "    def __repr__(self):\n",
    "        return 'Bananas({})'.format(self.count)\n",
    "\n",
    "    def __add__(self, other): \n",
    "        return Bananas(self.count + other.count)\n",
    "\n",
    "    def __mul__(self, mult):\n",
    "        if isinstance(mult, int):\n",
    "            return Bananas(self.count * mult)\n",
    "        else:\n",
    "            raise NotImplementedError\n",
    "            \n",
    "\n",
    "a = Bananas(4)\n",
    "b = a\n",
    "a += Bananas(5)\n",
    "a * 2, b is a"
   ]
  },
  {
   "cell_type": "code",
   "execution_count": 114,
   "metadata": {},
   "outputs": [
    {
     "ename": "NotImplementedError",
     "evalue": "",
     "output_type": "error",
     "traceback": [
      "\u001b[0;31m---------------------------------------------------------------------------\u001b[0m",
      "\u001b[0;31mNotImplementedError\u001b[0m                       Traceback (most recent call last)",
      "\u001b[0;32m<ipython-input-114-f0e4c0ee4ba0>\u001b[0m in \u001b[0;36m<module>\u001b[0;34m\u001b[0m\n\u001b[0;32m----> 1\u001b[0;31m \u001b[0mb\u001b[0m \u001b[0;34m*\u001b[0m \u001b[0ma\u001b[0m\u001b[0;34m\u001b[0m\u001b[0;34m\u001b[0m\u001b[0m\n\u001b[0m",
      "\u001b[0;32m<ipython-input-113-e72eddc3877e>\u001b[0m in \u001b[0;36m__mul__\u001b[0;34m(self, mult)\u001b[0m\n\u001b[1;32m     13\u001b[0m             \u001b[0;32mreturn\u001b[0m \u001b[0mBananas\u001b[0m\u001b[0;34m(\u001b[0m\u001b[0mself\u001b[0m\u001b[0;34m.\u001b[0m\u001b[0mcount\u001b[0m \u001b[0;34m*\u001b[0m \u001b[0mmult\u001b[0m\u001b[0;34m)\u001b[0m\u001b[0;34m\u001b[0m\u001b[0;34m\u001b[0m\u001b[0m\n\u001b[1;32m     14\u001b[0m         \u001b[0;32melse\u001b[0m\u001b[0;34m:\u001b[0m\u001b[0;34m\u001b[0m\u001b[0;34m\u001b[0m\u001b[0m\n\u001b[0;32m---> 15\u001b[0;31m             \u001b[0;32mraise\u001b[0m \u001b[0mNotImplementedError\u001b[0m\u001b[0;34m\u001b[0m\u001b[0;34m\u001b[0m\u001b[0m\n\u001b[0m\u001b[1;32m     16\u001b[0m \u001b[0;34m\u001b[0m\u001b[0m\n\u001b[1;32m     17\u001b[0m \u001b[0;34m\u001b[0m\u001b[0m\n",
      "\u001b[0;31mNotImplementedError\u001b[0m: "
     ]
    }
   ],
   "source": [
    "b * a"
   ]
  },
  {
   "cell_type": "markdown",
   "metadata": {
    "slideshow": {
     "slide_type": "slide"
    }
   },
   "source": [
    "### Преобразование типов"
   ]
  },
  {
   "cell_type": "code",
   "execution_count": 184,
   "metadata": {},
   "outputs": [
    {
     "name": "stdout",
     "output_type": "stream",
     "text": [
      "11\n"
     ]
    }
   ],
   "source": [
    "class Bananas(object):\n",
    "    def __init__(self, count=4):\n",
    "        self.count = count\n",
    "        \n",
    "    def __repr__(self):\n",
    "        return 'Bananas({})'.format(self.count)\n",
    "\n",
    "    def __str__(self):\n",
    "        return '{} Bananas!'.format(self.count)\n",
    "    \n",
    "    def __int__(self):\n",
    "        return self.count\n",
    "\n",
    "    def __bool__(self):\n",
    "        return self.count > 0\n",
    "\n",
    "b = Bananas(9)\n",
    "\n",
    "if b:\n",
    "    print(int(b) + 2)"
   ]
  },
  {
   "cell_type": "markdown",
   "metadata": {
    "slideshow": {
     "slide_type": "slide"
    }
   },
   "source": [
    "### format"
   ]
  },
  {
   "cell_type": "code",
   "execution_count": 185,
   "metadata": {},
   "outputs": [
    {
     "data": {
      "text/plain": [
       "'Some bananas for you : 🍌🍌🍌🍌🍌🍌🍌🍌🍌🍌🍌🍌🍌🍌🍌🍌🍌🍌🍌🍌🍌🍌🍌🍌🍌🍌🍌🍌🍌🍌🍌🍌🍌🍌🍌🍌🍌🍌🍌🍌🍌🍌🍌🍌🍌🍌🍌🍌🍌🍌🍌🍌🍌🍌🍌🍌🍌🍌🍌🍌🍌🍌🍌🍌🍌🍌🍌🍌🍌🍌🍌🍌🍌🍌🍌🍌🍌🍌🍌🍌🍌🍌🍌🍌🍌🍌🍌🍌🍌🍌🍌🍌🍌🍌🍌🍌🍌🍌🍌🍌🍌🍌🍌🍌🍌🍌🍌🍌🍌🍌🍌🍌🍌🍌🍌🍌🍌🍌🍌🍌🍌🍌🍌🍌🍌🍌🍌🍌🍌🍌🍌🍌🍌🍌🍌🍌🍌🍌🍌🍌🍌🍌🍌🍌🍌🍌🍌🍌🍌🍌'"
      ]
     },
     "execution_count": 185,
     "metadata": {},
     "output_type": "execute_result"
    }
   ],
   "source": [
    "class Bananas(object):\n",
    "    def __init__(self, count=4):\n",
    "        self.count = count\n",
    "        \n",
    "    def __repr__(self):\n",
    "        return 'Bananas({})'.format(self.count)\n",
    "    \n",
    "    def __format__(self, fstr):\n",
    "        if fstr == 'pretty':\n",
    "            return '🍌' * self.count\n",
    "        else:\n",
    "            return repr(self)\n",
    "    \n",
    "'Some bananas for you : {:pretty}'.format(Bananas(150))"
   ]
  },
  {
   "cell_type": "markdown",
   "metadata": {
    "slideshow": {
     "slide_type": "slide"
    }
   },
   "source": [
    "### Хеширование"
   ]
  },
  {
   "cell_type": "code",
   "execution_count": 115,
   "metadata": {},
   "outputs": [
    {
     "data": {
      "text/plain": [
       "{Bananas(0), Bananas(1), Bananas(2), Bananas(3), Bananas(4)}"
      ]
     },
     "execution_count": 115,
     "metadata": {},
     "output_type": "execute_result"
    }
   ],
   "source": [
    "class Bananas(object):\n",
    "    def __init__(self, count=4):\n",
    "        self.count = count\n",
    "        \n",
    "    def __repr__(self):\n",
    "        return 'Bananas({})'.format(self.count)\n",
    "\n",
    "    def __hash__(self):\n",
    "        return self.count \n",
    "    \n",
    "    def __eq__(self, other):\n",
    "        return self.count == other.count\n",
    "    \n",
    "s = set()\n",
    "for i in range(10):\n",
    "    s.add(Bananas(i // 2))\n",
    "\n",
    "s"
   ]
  },
  {
   "cell_type": "markdown",
   "metadata": {
    "slideshow": {
     "slide_type": "slide"
    }
   },
   "source": [
    "### Вызов : call"
   ]
  },
  {
   "cell_type": "code",
   "execution_count": 116,
   "metadata": {},
   "outputs": [
    {
     "name": "stdout",
     "output_type": "stream",
     "text": [
      "4.898979485566356\n"
     ]
    }
   ],
   "source": [
    "from math import factorial, sqrt\n",
    "\n",
    "class Pipeline(object):\n",
    "    def __init__(self, *args):\n",
    "        self.funcs = args\n",
    "        \n",
    "    def __call__(self, x):\n",
    "        for func in self.funcs:\n",
    "            x = func(x)\n",
    "        return x\n",
    "    \n",
    "p = Pipeline(factorial, sqrt, print)\n",
    "\n",
    "p(4) # p.__call__(4)"
   ]
  },
  {
   "cell_type": "markdown",
   "metadata": {
    "slideshow": {
     "slide_type": "slide"
    }
   },
   "source": [
    "### Доступ к элементам : getitem, setitem, len"
   ]
  },
  {
   "cell_type": "code",
   "execution_count": null,
   "metadata": {},
   "outputs": [],
   "source": [
    "a = [1, 2, 3, 4]\n",
    "print(a[2]) # a.__getitem__(2)\n",
    "a[3] = 5 # a.__setitem__(3, 5)\n",
    "len(a)   # a.__len__()"
   ]
  },
  {
   "cell_type": "code",
   "execution_count": 117,
   "metadata": {},
   "outputs": [
    {
     "name": "stdout",
     "output_type": "stream",
     "text": [
      "1 + 2 + 3 = 6\n",
      "1 + 6 + 3 = 10\n"
     ]
    }
   ],
   "source": [
    "class Sum(object):\n",
    "    def __init__(self, summands):\n",
    "        self.summands = summands\n",
    "        self.total = sum(summands)\n",
    "        \n",
    "    def __len__(self):\n",
    "        return len(self.summands)\n",
    "    \n",
    "    def __str__(self):\n",
    "        return(' + '.join(map(str, self.summands)) + ' = {}'.format(self.total))\n",
    "    \n",
    "    def __getitem__(self, i):\n",
    "        return self.summands[i]\n",
    "    \n",
    "    def __setitem__(self, i, value):\n",
    "        self.total -= self.summands[i] - value\n",
    "        self.summands[i] = value\n",
    "    \n",
    "s = Sum([1, 2 ,3])\n",
    "print(s)\n",
    "s[1] = 6\n",
    "print(s)"
   ]
  },
  {
   "cell_type": "code",
   "execution_count": null,
   "metadata": {},
   "outputs": [],
   "source": [
    "class Sum(list):\n",
    "    pass"
   ]
  },
  {
   "cell_type": "code",
   "execution_count": null,
   "metadata": {},
   "outputs": [],
   "source": [
    "# len(s) == s.__len__()\n",
    "# s[idx] == s.__getitem__(idx)\n",
    "# s[idx] = value == s.__setitem(idx, value)"
   ]
  },
  {
   "cell_type": "markdown",
   "metadata": {
    "slideshow": {
     "slide_type": "subslide"
    }
   },
   "source": [
    "### Пример"
   ]
  },
  {
   "cell_type": "code",
   "execution_count": 189,
   "metadata": {},
   "outputs": [
    {
     "name": "stdout",
     "output_type": "stream",
     "text": [
      "Setting name to Bond\n",
      "Setting name to James Bond\n"
     ]
    }
   ],
   "source": [
    "class LoggingDict(dict):\n",
    "    def __setitem__(self, key, value):\n",
    "        print('Setting {} to {}'.format(key, value))\n",
    "        super().__setitem__(key, value)\n",
    "        \n",
    "d = LoggingDict()\n",
    "\n",
    "d['name'] = 'Bond'\n",
    "d['name'] = 'James Bond' "
   ]
  },
  {
   "cell_type": "code",
   "execution_count": 55,
   "metadata": {},
   "outputs": [],
   "source": [
    "import collections\n",
    "\n",
    "class LoggingOD(LoggingDict, collections.OrderedDict):\n",
    "    pass\n",
    "\n",
    "d = LoggingOD()"
   ]
  },
  {
   "cell_type": "code",
   "execution_count": 191,
   "metadata": {},
   "outputs": [
    {
     "data": {
      "text/plain": [
       "[__main__.LoggingOD,\n",
       " __main__.LoggingDict,\n",
       " collections.OrderedDict,\n",
       " dict,\n",
       " object]"
      ]
     },
     "execution_count": 191,
     "metadata": {},
     "output_type": "execute_result"
    }
   ],
   "source": [
    "LoggingOD.mro()"
   ]
  },
  {
   "cell_type": "code",
   "execution_count": 56,
   "metadata": {},
   "outputs": [
    {
     "name": "stdout",
     "output_type": "stream",
     "text": [
      "Setting name to Bond\n",
      "Setting name to James Bond\n"
     ]
    }
   ],
   "source": [
    "d['name'] = 'Bond'\n",
    "d['name'] = 'James Bond' "
   ]
  },
  {
   "cell_type": "markdown",
   "metadata": {
    "slideshow": {
     "slide_type": "slide"
    }
   },
   "source": [
    "### Доступ к атрибутам : getattr, setattr, delattr"
   ]
  },
  {
   "cell_type": "code",
   "execution_count": 199,
   "metadata": {},
   "outputs": [
    {
     "name": "stdout",
     "output_type": "stream",
     "text": [
      "{}\n",
      "2 {'test': 2}\n"
     ]
    },
    {
     "data": {
      "text/plain": [
       "'No such attribute'"
      ]
     },
     "execution_count": 199,
     "metadata": {},
     "output_type": "execute_result"
    }
   ],
   "source": [
    "class StorageBox(object):\n",
    "    def __getattr__(self, attr):\n",
    "        return 'No such attribute'\n",
    "    \n",
    "    def __setattr__(self, attr, value):\n",
    "        self.__dict__[attr] = value\n",
    "        \n",
    "    def __delattr__(self, attr):\n",
    "        del self.__dict__[attr]\n",
    "    \n",
    "s = StorageBox()\n",
    "print(s.__dict__)\n",
    "s.test = 2\n",
    "print(s.test, s.__dict__)\n",
    "del s.test\n",
    "s.test"
   ]
  },
  {
   "cell_type": "markdown",
   "metadata": {
    "slideshow": {
     "slide_type": "slide"
    }
   },
   "source": [
    "### getattr как функция"
   ]
  },
  {
   "cell_type": "code",
   "execution_count": 200,
   "metadata": {},
   "outputs": [
    {
     "data": {
      "text/plain": [
       "'John Silver'"
      ]
     },
     "execution_count": 200,
     "metadata": {},
     "output_type": "execute_result"
    }
   ],
   "source": [
    "class Parrot(object):\n",
    "    name = 'John Silver'\n",
    "    \n",
    "a = Parrot()\n",
    "\n",
    "getattr(a, 'name')"
   ]
  },
  {
   "cell_type": "markdown",
   "metadata": {
    "slideshow": {
     "slide_type": "slide"
    }
   },
   "source": [
    "### Доступ к атрибутам 2 -- getattribute\n",
    "\n",
    "getattribute вызывается ДО поиска атрибутов в классе "
   ]
  },
  {
   "cell_type": "code",
   "execution_count": 201,
   "metadata": {},
   "outputs": [
    {
     "name": "stdout",
     "output_type": "stream",
     "text": [
      "All your base are belong to us\n"
     ]
    },
    {
     "data": {
      "text/plain": [
       "42"
      ]
     },
     "execution_count": 201,
     "metadata": {},
     "output_type": "execute_result"
    }
   ],
   "source": [
    "class Storeobject():\n",
    "    a = 1\n",
    "    b = 2(\n",
    "    \n",
    "    def __getattr__(self, attr):\n",
    "        return 'No such attr'\n",
    "    \n",
    "    def __getattribute__(self, attr):\n",
    "        print('All your base are belong to us')\n",
    "        return 42\n",
    "#         return super().__getattribute__(attr)\n",
    "    \n",
    "    \n",
    "        \n",
    "Store().c"
   ]
  },
  {
   "cell_type": "code",
   "execution_count": 202,
   "metadata": {},
   "outputs": [
    {
     "name": "stdout",
     "output_type": "stream",
     "text": [
      "1\n",
      "10\n"
     ]
    },
    {
     "ename": "AttributeError",
     "evalue": "'Count' object has no attribute 'mycurrent'",
     "output_type": "error",
     "traceback": [
      "\u001b[0;31m---------------------------------------------------------------------------\u001b[0m",
      "\u001b[0;31mAttributeError\u001b[0m                            Traceback (most recent call last)",
      "\u001b[0;32m<ipython-input-202-1b1e39c34294>\u001b[0m in \u001b[0;36m<module>\u001b[0;34m()\u001b[0m\n\u001b[1;32m      7\u001b[0m \u001b[0mprint\u001b[0m\u001b[0;34m(\u001b[0m\u001b[0mobj1\u001b[0m\u001b[0;34m.\u001b[0m\u001b[0mmymin\u001b[0m\u001b[0;34m)\u001b[0m\u001b[0;34m\u001b[0m\u001b[0m\n\u001b[1;32m      8\u001b[0m \u001b[0mprint\u001b[0m\u001b[0;34m(\u001b[0m\u001b[0mobj1\u001b[0m\u001b[0;34m.\u001b[0m\u001b[0mmymax\u001b[0m\u001b[0;34m)\u001b[0m\u001b[0;34m\u001b[0m\u001b[0m\n\u001b[0;32m----> 9\u001b[0;31m \u001b[0mprint\u001b[0m\u001b[0;34m(\u001b[0m\u001b[0mobj1\u001b[0m\u001b[0;34m.\u001b[0m\u001b[0mmycurrent\u001b[0m\u001b[0;34m)\u001b[0m\u001b[0;34m\u001b[0m\u001b[0m\n\u001b[0m",
      "\u001b[0;31mAttributeError\u001b[0m: 'Count' object has no attribute 'mycurrent'"
     ]
    }
   ],
   "source": [
    "class Count():\n",
    "    def __init__(self, mymin, mymax):\n",
    "        self.mymin = mymin\n",
    "        self.mymax = mymax\n",
    "\n",
    "obj1 = Count(1, 10)\n",
    "print(obj1.mymin)\n",
    "print(obj1.mymax)\n",
    "print(obj1.mycurrent)"
   ]
  },
  {
   "cell_type": "code",
   "execution_count": 204,
   "metadata": {},
   "outputs": [
    {
     "name": "stdout",
     "output_type": "stream",
     "text": [
      "1\n",
      "10\n",
      "0\n"
     ]
    }
   ],
   "source": [
    "class Count:\n",
    "    def __init__(self, mymin, mymax):\n",
    "        self.mymin = mymin\n",
    "        self.mymax = mymax    \n",
    "\n",
    "    def __getattr__(self, item):\n",
    "        self.__dict__[item]=0\n",
    "        return 0\n",
    "\n",
    "obj1 = Count(1,10)\n",
    "print(obj1.mymin)\n",
    "print(obj1.mymax)\n",
    "print(obj1.mycurrent1)"
   ]
  },
  {
   "cell_type": "code",
   "execution_count": 205,
   "metadata": {},
   "outputs": [
    {
     "name": "stdout",
     "output_type": "stream",
     "text": [
      "1\n",
      "10\n"
     ]
    },
    {
     "ename": "AttributeError",
     "evalue": "",
     "output_type": "error",
     "traceback": [
      "\u001b[0;31m---------------------------------------------------------------------------\u001b[0m",
      "\u001b[0;31mAttributeError\u001b[0m                            Traceback (most recent call last)",
      "\u001b[0;32m<ipython-input-205-1516c52259ca>\u001b[0m in \u001b[0;36m<module>\u001b[0;34m()\u001b[0m\n\u001b[1;32m     14\u001b[0m \u001b[0mprint\u001b[0m\u001b[0;34m(\u001b[0m\u001b[0mobj1\u001b[0m\u001b[0;34m.\u001b[0m\u001b[0mmymin\u001b[0m\u001b[0;34m)\u001b[0m\u001b[0;34m\u001b[0m\u001b[0m\n\u001b[1;32m     15\u001b[0m \u001b[0mprint\u001b[0m\u001b[0;34m(\u001b[0m\u001b[0mobj1\u001b[0m\u001b[0;34m.\u001b[0m\u001b[0mmymax\u001b[0m\u001b[0;34m)\u001b[0m\u001b[0;34m\u001b[0m\u001b[0m\n\u001b[0;32m---> 16\u001b[0;31m \u001b[0mprint\u001b[0m\u001b[0;34m(\u001b[0m\u001b[0mobj1\u001b[0m\u001b[0;34m.\u001b[0m\u001b[0mcurrent\u001b[0m\u001b[0;34m)\u001b[0m\u001b[0;34m\u001b[0m\u001b[0m\n\u001b[0m",
      "\u001b[0;32m<ipython-input-205-1516c52259ca>\u001b[0m in \u001b[0;36m__getattribute__\u001b[0;34m(self, item)\u001b[0m\n\u001b[1;32m      8\u001b[0m     \u001b[0;32mdef\u001b[0m \u001b[0m__getattribute__\u001b[0m\u001b[0;34m(\u001b[0m\u001b[0mself\u001b[0m\u001b[0;34m,\u001b[0m \u001b[0mitem\u001b[0m\u001b[0;34m)\u001b[0m\u001b[0;34m:\u001b[0m\u001b[0;34m\u001b[0m\u001b[0m\n\u001b[1;32m      9\u001b[0m         \u001b[0;32mif\u001b[0m \u001b[0mitem\u001b[0m\u001b[0;34m.\u001b[0m\u001b[0mstartswith\u001b[0m\u001b[0;34m(\u001b[0m\u001b[0;34m'cur'\u001b[0m\u001b[0;34m)\u001b[0m\u001b[0;34m:\u001b[0m\u001b[0;34m\u001b[0m\u001b[0m\n\u001b[0;32m---> 10\u001b[0;31m             \u001b[0;32mraise\u001b[0m \u001b[0mAttributeError\u001b[0m\u001b[0;34m\u001b[0m\u001b[0m\n\u001b[0m\u001b[1;32m     11\u001b[0m         \u001b[0;32mreturn\u001b[0m \u001b[0mobject\u001b[0m\u001b[0;34m.\u001b[0m\u001b[0m__getattribute__\u001b[0m\u001b[0;34m(\u001b[0m\u001b[0mself\u001b[0m\u001b[0;34m,\u001b[0m\u001b[0mitem\u001b[0m\u001b[0;34m)\u001b[0m\u001b[0;34m\u001b[0m\u001b[0m\n\u001b[1;32m     12\u001b[0m \u001b[0;34m\u001b[0m\u001b[0m\n",
      "\u001b[0;31mAttributeError\u001b[0m: "
     ]
    }
   ],
   "source": [
    "class Count:\n",
    "\n",
    "    def __init__(self, mymin, mymax):\n",
    "        self.mymin = mymin\n",
    "        self.mymax = mymax\n",
    "        self.current = None\n",
    "   \n",
    "    def __getattribute__(self, item):\n",
    "        if item.startswith('cur'):\n",
    "            raise AttributeError\n",
    "        return object.__getattribute__(self,item) \n",
    "\n",
    "obj1 = Count(1,10)\n",
    "print(obj1.mymin)\n",
    "print(obj1.mymax)\n",
    "print(obj1.current)"
   ]
  },
  {
   "cell_type": "code",
   "execution_count": 208,
   "metadata": {},
   "outputs": [
    {
     "name": "stdout",
     "output_type": "stream",
     "text": [
      "1\n",
      "10\n",
      "0\n"
     ]
    }
   ],
   "source": [
    "class Count(object):\n",
    "    def __init__(self, mymin, mymax):\n",
    "        self.mymin = mymin\n",
    "        self.mymax = mymax\n",
    "        self.current = 10\n",
    "\n",
    "    def __getattr__(self, item):\n",
    "        self.__dict__[item] = 0\n",
    "        return 0\n",
    "\n",
    "    def __getattribute__(self, item):\n",
    "        if item.startswith('cur'):\n",
    "            raise AttributeError\n",
    "        return super().__getattribute__(item)\n",
    "\n",
    "obj1 = Count(1,10)\n",
    "print(obj1.mymin)\n",
    "print(obj1.mymax)\n",
    "print(obj1.current)"
   ]
  },
  {
   "cell_type": "code",
   "execution_count": null,
   "metadata": {},
   "outputs": [],
   "source": []
  }
 ],
 "metadata": {
  "kernelspec": {
   "display_name": "Python 3",
   "language": "python",
   "name": "python3"
  },
  "language_info": {
   "codemirror_mode": {
    "name": "ipython",
    "version": 3
   },
   "file_extension": ".py",
   "mimetype": "text/x-python",
   "name": "python",
   "nbconvert_exporter": "python",
   "pygments_lexer": "ipython3",
   "version": "3.8.5"
  },
  "livereveal": {
   "theme": "Serif",
   "transition": "fade"
  }
 },
 "nbformat": 4,
 "nbformat_minor": 2
}
