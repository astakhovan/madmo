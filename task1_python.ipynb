{
 "cells": [
  {
   "cell_type": "markdown",
   "id": "crazy-taylor",
   "metadata": {},
   "source": [
    "## ДЗ-1\n",
    "\n",
    "Данное задание посвящено стандратным средствам языка Python. \n",
    "\n",
    "Заполните ноутбук, вставив свой код в отведенные для этого ячейки _\\<YOUR CODE GOES HERE\\>_.\n",
    "\n",
    "Выполненный ноутбук нужно отправить на почту *almarkv@yandex.ru*, указав тему письма **[МАДМО] Фамилия Имя Задание 1**"
   ]
  },
  {
   "cell_type": "markdown",
   "id": "distributed-banana",
   "metadata": {},
   "source": [
    "**Задача 1:** напишите функцию, которая проверяет, является ли введенная строка палиндромом. "
   ]
  },
  {
   "cell_type": "code",
   "execution_count": null,
   "id": "chubby-infrared",
   "metadata": {},
   "outputs": [],
   "source": [
    "def is_palindrome(s):\n",
    "    ans = False\n",
    "    # <YOUR CODE GOES HERE>\n",
    "    return ans"
   ]
  },
  {
   "cell_type": "markdown",
   "id": "respiratory-wildlife",
   "metadata": {},
   "source": [
    "**Задача 2:** напишите функцию, которая принимает на вход два списка $[x_1, \\dots, x_n]$ и $[y_1, \\dots, y_n]$, а возвращает их скалярное произведение $$<x, y> = x_1 y_1 + x_2 y_2 + \\dots x_n y_n.$$"
   ]
  },
  {
   "cell_type": "code",
   "execution_count": null,
   "id": "celtic-contrary",
   "metadata": {},
   "outputs": [],
   "source": [
    "def inner_product(x, y):\n",
    "    #<YOUR CODE GOES HERE>"
   ]
  },
  {
   "cell_type": "markdown",
   "id": "large-modern",
   "metadata": {},
   "source": [
    "**Задача 3:** по данному натуральному числу $n$ вычислите значение $1! + 2! + \\dots + n!$. В задаче можно использовать только один цикл ($n! = 1 \\cdot 2 \\cdot 3\\cdot n$)."
   ]
  },
  {
   "cell_type": "code",
   "execution_count": null,
   "id": "corporate-pencil",
   "metadata": {},
   "outputs": [],
   "source": [
    "def sum_of_factorial(n):\n",
    "    # <YOUR CODE GOES HERE>"
   ]
  },
  {
   "cell_type": "markdown",
   "id": "patient-wellington",
   "metadata": {},
   "source": [
    "**Задача 4:** по данной последовательности молекулы ДНК постройте коплементарную молекулу, заменив нуклеотиды на парные им (A -> T, T -> A, G -> C, C -> G)."
   ]
  },
  {
   "cell_type": "code",
   "execution_count": null,
   "id": "polished-baking",
   "metadata": {},
   "outputs": [],
   "source": [
    "def create_paired_dna(dna):\n",
    "    # <YOUR CODE GOES HERE>"
   ]
  },
  {
   "cell_type": "markdown",
   "id": "grand-stake",
   "metadata": {},
   "source": [
    "**Задача 5:** Используя список, реализуйте класс стэка -- это структура данных, которая поддерживает следующие операции: \n",
    "+ добавление элемента в конец (push)\n",
    "+ удалить элемент из конца и вернуть значение удаленного элемента (pop)\n",
    "+ узнать количество элементов в структуре данных\n",
    "\n",
    "Остальные операции стандартного списка (например, обращение по индексу) не должны поддерживаться."
   ]
  },
  {
   "cell_type": "code",
   "execution_count": null,
   "id": "considered-option",
   "metadata": {},
   "outputs": [],
   "source": [
    "class Stack(object):\n",
    "    pass"
   ]
  },
  {
   "cell_type": "markdown",
   "id": "operating-corps",
   "metadata": {},
   "source": [
    "**Задача 6:** Используя список, реализуйте класс очереди -- это структура данных, которая поддерживает следующие операции: \n",
    "+ добавление элемента в конец (push)\n",
    "+ удалить элемент из начала и вернуть значение удаленного элемента (pop)\n",
    "+ узнать количество элементов в структуре данных\n",
    "\n",
    "Остальные операции стандартного списка (например, обращение по индексу) не должны поддерживаться."
   ]
  },
  {
   "cell_type": "code",
   "execution_count": null,
   "id": "spiritual-underwear",
   "metadata": {},
   "outputs": [],
   "source": [
    "class Queue(object):\n",
    "    pass"
   ]
  },
  {
   "cell_type": "markdown",
   "id": "surprised-comment",
   "metadata": {},
   "source": [
    "**Задача 7***:  Реализуйте класс \"хранилища банка\". Он должен хранить список клиентов (имена) вместе с паролями от их счетов и денежном балансом на этих счетах. Банк должен уметь пополнять счет клиента, снимать деньги с счета клиента, переводить деньги с одного счета на другой и добавлять нового клиента. \n",
    "\n",
    "+ У клиента может быть больше одного счета\n",
    "+ Корректность проводимых операций стоит проверять (например, что хватает денег чтобы их снять)\n",
    "\n",
    "Постарайтесь использовать как можно меньше памяти для хранения необходимых данных"
   ]
  },
  {
   "cell_type": "code",
   "execution_count": null,
   "id": "gentle-registration",
   "metadata": {},
   "outputs": [],
   "source": [
    "class Bank(object):\n",
    "    pass"
   ]
  }
 ],
 "metadata": {
  "kernelspec": {
   "display_name": "Python 3",
   "language": "python",
   "name": "python3"
  },
  "language_info": {
   "codemirror_mode": {
    "name": "ipython",
    "version": 3
   },
   "file_extension": ".py",
   "mimetype": "text/x-python",
   "name": "python",
   "nbconvert_exporter": "python",
   "pygments_lexer": "ipython3",
   "version": "3.8.5"
  }
 },
 "nbformat": 4,
 "nbformat_minor": 5
}
